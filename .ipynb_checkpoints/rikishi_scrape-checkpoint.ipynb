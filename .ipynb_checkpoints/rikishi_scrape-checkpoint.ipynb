{
 "cells": [
  {
   "cell_type": "markdown",
   "metadata": {
    "collapsed": true
   },
   "source": [
    "# Scrape Rikishi Data"
   ]
  },
  {
   "cell_type": "code",
   "execution_count": 1,
   "metadata": {
    "collapsed": false
   },
   "outputs": [],
   "source": [
    "import urllib2\n",
    "import bs4 #this is beautiful soup\n",
    "import pandas as pd\n",
    "\n",
    "# custom helper functions\n",
    "from data_prep import extract_record, extract_age, extract_body_specs"
   ]
  },
  {
   "cell_type": "code",
   "execution_count": 2,
   "metadata": {
    "collapsed": false
   },
   "outputs": [],
   "source": [
    "# rikishi = \"http://sumodb.sumogames.de/Rikishi.aspx?r=1123\" # hakuho\n",
    "# rikishi = \"http://sumodb.sumogames.de/Rikishi.aspx?r=3276&l=e\"\n",
    "rikishi = \"http://sumodb.sumogames.de/Rikishi.aspx?shikona=kisenosato\"\n",
    "source = urllib2.urlopen(rikishi).read()\n",
    "# print source\n",
    "\n",
    "soup = bs4.BeautifulSoup(source, 'lxml') # turn into soup"
   ]
  },
  {
   "cell_type": "markdown",
   "metadata": {},
   "source": [
    "## Parse HTML Table with Rikishi Data"
   ]
  },
  {
   "cell_type": "code",
   "execution_count": 3,
   "metadata": {
    "collapsed": false,
    "scrolled": false
   },
   "outputs": [
    {
     "name": "stdout",
     "output_type": "stream",
     "text": [
      "Name: Hagiwara Yutaka - Kisenosato Yutaka\n",
      "Record: 764-460/1223 (89 basho)\n",
      "Ht/Wt: 188 cm 171 kg\n",
      "DOB: July 3, 1986 (30 years)\n",
      "Origin: Ibaraki-ken, Ushiku-shi\n"
     ]
    }
   ],
   "source": [
    "# TODO: \n",
    "# - add exceptions in case no data turns up\n",
    "# - account for missing data elements\n",
    "\n",
    "tables = soup.findAll('table', {'class': 'rikishidata'})\n",
    "\n",
    "#if tables = []:\n",
    "#    print \"No tables found, continuing ...\"\n",
    "#    continue\n",
    "    \n",
    "rows = tables[1].findAll('tr') # there are two tables with the same class, pick #2\n",
    "\n",
    "# initialize desired cell values\n",
    "record = u''\n",
    "ht_wt = u''\n",
    "birth_date = u''\n",
    "origin = u''\n",
    "\n",
    "for row in rows: # iterate through rows\n",
    "    cells = row.findAll('td')\n",
    "    if (cells[0].text =='Career Record') & (len(cells)==2):\n",
    "        record = cells[1].text\n",
    "    if (cells[0].text == 'Height and Weight') & (len(cells) == 2):\n",
    "        ht_wt = cells[1].text\n",
    "    if (cells[0].text == 'Birth Date') & (len(cells) == 2):\n",
    "        birth_date = cells[1].text\n",
    "    if (cells[0].text == 'Shusshin') & (len(cells) == 2):\n",
    "        origin = cells[1].text\n",
    "    if (cells[0].text == 'Shikona') & (len(cells) == 2):\n",
    "        name = cells[1].text\n",
    "\n",
    "print \"Name: \" + name\n",
    "print \"Record: \" + record # wins, losses, withdrawals, appearances, # tourneys participated\n",
    "print \"Ht/Wt: \" + ht_wt # height (cm), weight (kg)\n",
    "print \"DOB: \" + birth_date\n",
    "print \"Origin: \" + origin"
   ]
  },
  {
   "cell_type": "markdown",
   "metadata": {},
   "source": [
    "## Prepare Data For Storing"
   ]
  },
  {
   "cell_type": "code",
   "execution_count": 6,
   "metadata": {
    "collapsed": false
   },
   "outputs": [
    {
     "name": "stdout",
     "output_type": "stream",
     "text": [
      "Name: Hagiwara Yutaka - Kisenosato Yutaka\n",
      "\n",
      "\n",
      "--Details--\n",
      "Age: 30.57 \n",
      "Height: 188.0\n",
      "Weight: 171.0\n",
      "\n",
      "\n",
      "--Career Record--\n",
      "Wins: 764\n",
      "Losses: 460\n",
      "Withdrawals: None\n",
      "Appearances: 1223\n",
      "Tourneys: 89\n",
      "\n",
      "\n"
     ]
    }
   ],
   "source": [
    "wins, losses, withdrawals, appearances, tourneys = extract_record(record)\n",
    "age = extract_age(birth_date)\n",
    "height, weight = extract_body_specs(ht_wt)\n",
    "\n",
    "print \"Name: \" + name\n",
    "print '\\n'\n",
    "\n",
    "print \"--Details--\"\n",
    "print \"Age: %0.2f \" % age\n",
    "print \"Height: \" + str(height)\n",
    "print \"Weight: \" + str(weight)\n",
    "print '\\n'\n",
    "\n",
    "print \"--Career Record--\"\n",
    "print \"Wins: \" + str(wins)\n",
    "print \"Losses: \" + str(losses)\n",
    "print \"Withdrawals: \" + str(withdrawals)\n",
    "print \"Appearances: \" + str(appearances)\n",
    "print \"Tourneys: \" + str(tourneys)\n",
    "print '\\n'"
   ]
  },
  {
   "cell_type": "markdown",
   "metadata": {},
   "source": [
    "## Store in Pandas Dataframe"
   ]
  },
  {
   "cell_type": "code",
   "execution_count": 5,
   "metadata": {
    "collapsed": false
   },
   "outputs": [
    {
     "data": {
      "text/html": [
       "<div>\n",
       "<table border=\"1\" class=\"dataframe\">\n",
       "  <thead>\n",
       "    <tr style=\"text-align: right;\">\n",
       "      <th></th>\n",
       "      <th>name</th>\n",
       "      <th>age</th>\n",
       "      <th>height</th>\n",
       "      <th>weight</th>\n",
       "      <th>wins</th>\n",
       "      <th>loses</th>\n",
       "      <th>withdrawals</th>\n",
       "      <th>appearances</th>\n",
       "      <th>tourneys</th>\n",
       "    </tr>\n",
       "  </thead>\n",
       "  <tbody>\n",
       "    <tr>\n",
       "      <th>0</th>\n",
       "      <td>Hagiwara Yutaka - Kisenosato Yutaka</td>\n",
       "      <td>30.568104</td>\n",
       "      <td>188.0</td>\n",
       "      <td>171.0</td>\n",
       "      <td>764.0</td>\n",
       "      <td>460.0</td>\n",
       "      <td>None</td>\n",
       "      <td>1223.0</td>\n",
       "      <td>89.0</td>\n",
       "    </tr>\n",
       "  </tbody>\n",
       "</table>\n",
       "</div>"
      ],
      "text/plain": [
       "                                  name        age  height  weight   wins  \\\n",
       "0  Hagiwara Yutaka - Kisenosato Yutaka  30.568104   188.0   171.0  764.0   \n",
       "\n",
       "   loses withdrawals  appearances  tourneys  \n",
       "0  460.0        None       1223.0      89.0  "
      ]
     },
     "execution_count": 5,
     "metadata": {},
     "output_type": "execute_result"
    }
   ],
   "source": [
    "cols = ['name', 'age', 'height', 'weight', 'wins', 'loses', 'withdrawals', 'appearances', 'tourneys']\n",
    "\n",
    "rikishi_df = pd.DataFrame(columns=cols) # initialize dataframe\n",
    "stats_compiled = [name, age, height, weight, wins, losses, withdrawals, appearances, tourneys]\n",
    "rikishi_df.loc[len(rikishi_df)] = stats_compiled\n",
    "\n",
    "rikishi_df.head()\n",
    "\n",
    "\n",
    "\n"
   ]
  },
  {
   "cell_type": "code",
   "execution_count": null,
   "metadata": {
    "collapsed": true
   },
   "outputs": [],
   "source": []
  }
 ],
 "metadata": {
  "anaconda-cloud": {},
  "kernelspec": {
   "display_name": "Python [default]",
   "language": "python",
   "name": "python2"
  },
  "language_info": {
   "codemirror_mode": {
    "name": "ipython",
    "version": 2
   },
   "file_extension": ".py",
   "mimetype": "text/x-python",
   "name": "python",
   "nbconvert_exporter": "python",
   "pygments_lexer": "ipython2",
   "version": "2.7.12"
  }
 },
 "nbformat": 4,
 "nbformat_minor": 1
}
