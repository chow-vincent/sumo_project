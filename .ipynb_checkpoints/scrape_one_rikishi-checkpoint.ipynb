{
 "cells": [
  {
   "cell_type": "markdown",
   "metadata": {
    "collapsed": true
   },
   "source": [
    "# Scrape One Rikishi Data"
   ]
  },
  {
   "cell_type": "code",
   "execution_count": 2,
   "metadata": {
    "collapsed": false
   },
   "outputs": [],
   "source": [
    "import urllib2\n",
    "import bs4 #this is beautiful soup\n",
    "import pandas as pd\n",
    "pd.set_option('display.width', 500)\n",
    "pd.set_option('display.max_columns', 100)\n",
    "pd.set_option('display.notebook_repr_html', True)\n",
    "import re\n",
    "\n",
    "# custom helper functions\n",
    "from data_extraction import extract_rank, extract_years, extract_birthplace, \\\n",
    "                            extract_body_specs, extract_stable, extract_record"
   ]
  },
  {
   "cell_type": "code",
   "execution_count": 3,
   "metadata": {
    "collapsed": false
   },
   "outputs": [
    {
     "name": "stdout",
     "output_type": "stream",
     "text": [
      "done\n"
     ]
    }
   ],
   "source": [
    "rikishi = \"http://sumodb.sumogames.de/Rikishi.aspx?r=1123\" # hakuho\n",
    "# rikishi = \"http://sumodb.sumogames.de/Rikishi.aspx?r=11893\" # Akashi (NaN height weight?)\n",
    "# rikishi = \"http://sumodb.sumogames.de/Rikishi.aspx?shikona=kisenosato\"\n",
    "# rikishi = \"http://sumodb.sumogames.de/Rikishi.aspx?r=3565\"\n",
    "# rikishi = \"http://sumodb.sumogames.de/Rikishi.aspx?r=9280\" # Genkai (unknown intai)\n",
    "# rikishi = \"http://sumodb.sumogames.de/Rikishi.aspx?r=3067\" # uzugafuchi (long career record test)\n",
    "\n",
    "source = urllib2.urlopen(rikishi).read()\n",
    "# print source\n",
    "\n",
    "soup = bs4.BeautifulSoup(source, 'lxml') # turn into soup\n",
    "print 'done'"
   ]
  },
  {
   "cell_type": "markdown",
   "metadata": {},
   "source": [
    "## Parse HTML Table with Rikishi Data"
   ]
  },
  {
   "cell_type": "code",
   "execution_count": 4,
   "metadata": {
    "collapsed": false,
    "scrolled": true
   },
   "outputs": [
    {
     "name": "stdout",
     "output_type": "stream",
     "text": [
      "---Raw Extracted Strings---\n",
      "Shikona: Hakuho Sho\n",
      "Highest Rank: Yokozuna (May 2007)\n",
      "Date of Birth: March 11, 1985 (31 years)\n",
      "Shusshin: Mongolia, Ulan-Bator\n",
      "Ht/Wt: 192 cm 152.9 kg\n",
      "Heya: Miyagino\n",
      "Hatsu Dohyo: 2001.03\n",
      "Intai: \n",
      "Career Record: 1019-215-48/1232 (95 basho)\n",
      "Makuuchi_Record: 925-167-48/1090 (76 basho), 37 Yusho, 21 Jun-Yusho, 2 Gino-Sho, 3 Shukun-Sho, 1 Kanto-Sho, 1 Kinboshi\n"
     ]
    }
   ],
   "source": [
    "# isolate html tags to those containing rikishi data (two tags exist)\n",
    "tables = soup.findAll('table', {'class': 'rikishidata'})\n",
    "    \n",
    "rows = tables[1].findAll('tr') # there are two tables with the same class, pick #2\n",
    "\n",
    "# initialize desired cell values\n",
    "# capture raw strings with japanese variables, but store in english for convenience\n",
    "shikona = u''\n",
    "rank = u''\n",
    "birth_date = u''\n",
    "shusshin = u''\n",
    "ht_wt = u''\n",
    "heya = u''\n",
    "hatsu_dohyo = u''\n",
    "intai = u''\n",
    "\n",
    "career_record = u''\n",
    "makuuchi_record = u''\n",
    "yokozuna_record = u''\n",
    "ozeki_record = u''\n",
    "sekiwake_record = u''\n",
    "komusubi_record = u''\n",
    "maegashira_record = u''\n",
    "juryo_record = u''\n",
    "makushita_record = u''\n",
    "sandanme_record = u''\n",
    "jonidan_record = u''\n",
    "jonokuchi_record = u''\n",
    "\n",
    "# flag = 0 debugging purposes\n",
    "for row in rows: # iterate through rows\n",
    "    cells = row.findAll('td')\n",
    "    \n",
    "    if (cells[0].text == u'Shikona') & (len(cells) == 2):  # sumo name\n",
    "        shikona = cells[1].text\n",
    "    if (cells[0].text == u'Highest Rank') & (len(cells)==2):\n",
    "        rank = cells[1].text\n",
    "    if (cells[0].text == u'Birth Date') & (len(cells) == 2):\n",
    "        birth_date = cells[1].text\n",
    "    if (cells[0].text == u'Shusshin') & (len(cells) == 2): # place of origin\n",
    "        shusshin = cells[1].text\n",
    "    if (cells[0].text == u'Height and Weight') & (len(cells) == 2):\n",
    "        ht_wt = cells[1].text\n",
    "    if (cells[0].text == u'Heya') & (len(cells) == 2):\n",
    "        heya = cells[1].text\n",
    "    if (cells[0].text == u'Hatsu Dohyo') & (len(cells) == 2): # career start date\n",
    "        hatsu_dohyo = cells[1].text\n",
    "    if (cells[0].text == u'Intai') & (len(cells) == 2): # retirement date\n",
    "        intai = cells[1].text\n",
    "        \n",
    "    if (cells[0].text == u'Career Record') & (len(cells) == 2):\n",
    "        career_record = cells[1].text\n",
    "    if (cells[0].text == u'\\xa0 In Makuuchi') & (len(cells) == 2): # &nbsp; converted to space\n",
    "        makuuchi_record = cells[1].text\n",
    "    if (cells[0].text == u'\\xa0\\xa0 As Yokozuna') & (len(cells) == 2):\n",
    "        yokozuna_record = cells[1].text\n",
    "    if (cells[0].text == u'\\xa0\\xa0 As Ozeki') & (len(cells) == 2):\n",
    "        ozeki_record = cells[1].text\n",
    "    if (cells[0].text == u'\\xa0\\xa0 As Sekiwake') & (len(cells) == 2):\n",
    "        sekiwake_record = cells[1].text\n",
    "    if (cells[0].text == u'\\xa0\\xa0 As Komusubi') & (len(cells) == 2):\n",
    "        komusubi_record = cells[1].text\n",
    "    if (cells[0].text == u'\\xa0\\xa0 As Maegashira') & (len(cells) == 2):\n",
    "        maegashira_record = cells[1].text\n",
    "    if (cells[0].text == u'\\xa0 In Juryo') & (len(cells) == 2):\n",
    "        juryo_record = cells[1].text\n",
    "    if (cells[0].text == u'\\xa0 In Makushita') & (len(cells) == 2):\n",
    "        makushita_record = cells[1].text\n",
    "    if (cells[0].text == u'\\xa0 In Sandanme') & (len(cells) == 2):\n",
    "        sandanme_record = cells[1].text\n",
    "    if (cells[0].text == u'\\xa0 In Jonidan') & (len(cells) == 2):\n",
    "        jonidan_record = cells[1].text\n",
    "    if (cells[0].text == u'\\xa0 In Jonokuchi') & (len(cells) == 2):\n",
    "        jonokuchi_record = cells[1].text\n",
    "\n",
    "print \"---Raw Extracted Strings---\"\n",
    "print \"Shikona: \" + shikona\n",
    "print \"Highest Rank: \" + rank\n",
    "print \"Date of Birth: \" + birth_date\n",
    "print \"Shusshin: \" + shusshin\n",
    "print \"Ht/Wt: \" + ht_wt # height (cm), weight (kg)\n",
    "print \"Heya: \" + heya\n",
    "print \"Hatsu Dohyo: \" + hatsu_dohyo\n",
    "print \"Intai: \" + intai\n",
    "print \"Career Record: \" + career_record # wins, losses, withdrawals, appearances, tourneys\n",
    "print \"Makuuchi_Record: \" + makuuchi_record # same as career record, but + possible awards"
   ]
  },
  {
   "cell_type": "markdown",
   "metadata": {},
   "source": [
    "## Prepare Data For Storing"
   ]
  },
  {
   "cell_type": "code",
   "execution_count": 5,
   "metadata": {
    "collapsed": false
   },
   "outputs": [
    {
     "name": "stdout",
     "output_type": "stream",
     "text": [
      "Shikona: Hakuho Sho\n",
      "\n",
      "\n",
      "--Details--\n",
      "Rank: Yokozuna\n",
      "Birthday: 1985-03-11 00:00:00\n",
      "Age: 31.9041752225\n",
      "Birth Place: Mongolia, Ulan-Bator\n",
      "Height: 192.0\n",
      "Weight: 152.9\n",
      "Sumo Stable: Miyagino\n",
      "Active Years: 15.9315537303\n",
      "Debut: 2001-03-01 00:00:00\n",
      "Entry Rank: None\n",
      "Retirement: None\n",
      "\n",
      "\n",
      "--Career Record--\n",
      "Wins: 1019\n",
      "Losses: 215\n",
      "Withdrawals: 48\n",
      "Appearances: 1232\n",
      "Tourneys: 95\n",
      "\n",
      "\n",
      "--Makuuchi Recod--\n",
      "Wins: 925\n",
      "Losses: 167\n",
      "Withdrawals: 48\n",
      "Appearances: 1090\n",
      "Tourneys: 76\n",
      "Yusho: 37\n",
      "Jun-Yusho: 21\n",
      "Gino-Sho: 2\n",
      "Shukun-Sho: 3\n",
      "Kanto-Sho: 1\n",
      "Kinboshi: 1\n",
      "\n",
      "\n"
     ]
    }
   ],
   "source": [
    "highest_rank = extract_rank(rank)\n",
    "bday, age, active_years, debut, entry_rank, retirement = extract_years(birth_date, hatsu_dohyo, intai)\n",
    "birth_place = extract_birthplace(shusshin)\n",
    "height, weight = extract_body_specs(ht_wt)\n",
    "sumo_stable = extract_stable(heya)\n",
    "\n",
    "career_record_dict = extract_record(career_record)\n",
    "makuuchi_record_dict = extract_record(makuuchi_record)\n",
    "yokozuna_record_dict = extract_record(yokozuna_record)\n",
    "ozeki_record_dict = extract_record(ozeki_record)\n",
    "sekiwake_record_dict = extract_record(sekiwake_record)\n",
    "komusubi_record_dict = extract_record(komusubi_record)\n",
    "maegashira_record_dict = extract_record(maegashira_record)\n",
    "juryo_record_dict = extract_record(juryo_record)\n",
    "makushita_record_dict = extract_record(makushita_record)\n",
    "sandanme_record_dict = extract_record(sandanme_record)\n",
    "jonidan_record_dict = extract_record(jonidan_record)\n",
    "jonokuchi_record_dict = extract_record(jonokuchi_record)\n",
    "\n",
    "print \"Shikona: \" + shikona\n",
    "print '\\n'\n",
    "\n",
    "print \"--Details--\"\n",
    "print \"Rank: \" + str(highest_rank)\n",
    "print \"Birthday: \" + str(bday)\n",
    "print \"Age: \" + str(age)\n",
    "print \"Birth Place: \" + str(birth_place)\n",
    "print \"Height: \" + str(height)\n",
    "print \"Weight: \" + str(weight)\n",
    "print \"Sumo Stable: \" + str(sumo_stable)\n",
    "print \"Active Years: \" + str(active_years)\n",
    "print \"Debut: \" + str(debut)\n",
    "print \"Entry Rank: \" + str(entry_rank)\n",
    "print \"Retirement: \" + str(retirement)\n",
    "print '\\n'\n",
    "\n",
    "print \"--Career Record--\"\n",
    "print \"Wins: \" + str(career_record_dict['wins'])\n",
    "print \"Losses: \" + str(career_record_dict['losses'])\n",
    "print \"Withdrawals: \" + str(career_record_dict['withdrawals'])\n",
    "print \"Appearances: \" + str(career_record_dict['appearances'])\n",
    "print \"Tourneys: \" + str(career_record_dict['tourneys'])\n",
    "print '\\n'\n",
    "\n",
    "print \"--Makuuchi Recod--\"\n",
    "print \"Wins: \" + str(makuuchi_record_dict['wins'])\n",
    "print \"Losses: \" + str(makuuchi_record_dict['losses'])\n",
    "print \"Withdrawals: \" + str(makuuchi_record_dict['withdrawals'])\n",
    "print \"Appearances: \" + str(makuuchi_record_dict['appearances'])\n",
    "print \"Tourneys: \" + str(makuuchi_record_dict['tourneys'])\n",
    "print \"Yusho: \" + str(makuuchi_record_dict['yusho'])\n",
    "print \"Jun-Yusho: \" + str(makuuchi_record_dict['jun_yusho'])\n",
    "print \"Gino-Sho: \" + str(makuuchi_record_dict['gino_sho'])\n",
    "print \"Shukun-Sho: \" + str(makuuchi_record_dict['shukun_sho'])\n",
    "print \"Kanto-Sho: \" + str(makuuchi_record_dict['kanto_sho'])\n",
    "print \"Kinboshi: \" + str(makuuchi_record_dict['kinboshi'])\n",
    "print '\\n'"
   ]
  },
  {
   "cell_type": "markdown",
   "metadata": {},
   "source": [
    "## Store in Pandas Dataframe"
   ]
  },
  {
   "cell_type": "code",
   "execution_count": 6,
   "metadata": {
    "collapsed": false
   },
   "outputs": [
    {
     "data": {
      "text/html": [
       "<div>\n",
       "<table border=\"1\" class=\"dataframe\">\n",
       "  <thead>\n",
       "    <tr style=\"text-align: right;\">\n",
       "      <th></th>\n",
       "      <th>shikona</th>\n",
       "      <th>highest_rank</th>\n",
       "      <th>bday</th>\n",
       "      <th>age</th>\n",
       "      <th>birth_place</th>\n",
       "      <th>height</th>\n",
       "      <th>weight</th>\n",
       "      <th>sumo_stable</th>\n",
       "      <th>active_years</th>\n",
       "      <th>debut</th>\n",
       "      <th>entry_rank</th>\n",
       "      <th>retirement</th>\n",
       "      <th>career_record</th>\n",
       "      <th>makuuchi_record</th>\n",
       "      <th>yokozuna_record</th>\n",
       "      <th>ozeki_record</th>\n",
       "      <th>sekiwake_record</th>\n",
       "      <th>komusubi_record</th>\n",
       "      <th>maegashira_record</th>\n",
       "      <th>juryo_record</th>\n",
       "      <th>makushita_record</th>\n",
       "      <th>sandanme_record</th>\n",
       "      <th>jonidan_record</th>\n",
       "      <th>jonokuchi_record</th>\n",
       "    </tr>\n",
       "  </thead>\n",
       "  <tbody>\n",
       "    <tr>\n",
       "      <th>0</th>\n",
       "      <td>Hakuho Sho</td>\n",
       "      <td>Yokozuna</td>\n",
       "      <td>1985-03-11</td>\n",
       "      <td>31.904175</td>\n",
       "      <td>Mongolia, Ulan-Bator</td>\n",
       "      <td>192.0</td>\n",
       "      <td>152.9</td>\n",
       "      <td>Miyagino</td>\n",
       "      <td>15.931554</td>\n",
       "      <td>2001-03-01</td>\n",
       "      <td>None</td>\n",
       "      <td>None</td>\n",
       "      <td>{u'appearances': 1232, u'jun_yusho': None, u'w...</td>\n",
       "      <td>{u'appearances': 1090, u'jun_yusho': 21, u'wit...</td>\n",
       "      <td>{u'appearances': 827, u'jun_yusho': 16, u'with...</td>\n",
       "      <td>{u'appearances': 90, u'jun_yusho': 1, u'withdr...</td>\n",
       "      <td>{u'appearances': 68, u'jun_yusho': 2, u'withdr...</td>\n",
       "      <td>{u'appearances': 30, u'jun_yusho': 1, u'withdr...</td>\n",
       "      <td>{u'appearances': 75, u'jun_yusho': 1, u'withdr...</td>\n",
       "      <td>{u'appearances': 30, u'jun_yusho': None, u'wit...</td>\n",
       "      <td>{u'appearances': 35, u'jun_yusho': None, u'wit...</td>\n",
       "      <td>{u'appearances': 42, u'jun_yusho': None, u'wit...</td>\n",
       "      <td>{u'appearances': 21, u'jun_yusho': None, u'wit...</td>\n",
       "      <td>{u'appearances': 14, u'jun_yusho': None, u'wit...</td>\n",
       "    </tr>\n",
       "  </tbody>\n",
       "</table>\n",
       "</div>"
      ],
      "text/plain": [
       "      shikona highest_rank       bday        age           birth_place  height  weight sumo_stable  active_years      debut entry_rank retirement                                      career_record                                    makuuchi_record                                    yokozuna_record                                       ozeki_record                                    sekiwake_record                                    komusubi_record  \\\n",
       "0  Hakuho Sho     Yokozuna 1985-03-11  31.904175  Mongolia, Ulan-Bator   192.0   152.9    Miyagino     15.931554 2001-03-01       None       None  {u'appearances': 1232, u'jun_yusho': None, u'w...  {u'appearances': 1090, u'jun_yusho': 21, u'wit...  {u'appearances': 827, u'jun_yusho': 16, u'with...  {u'appearances': 90, u'jun_yusho': 1, u'withdr...  {u'appearances': 68, u'jun_yusho': 2, u'withdr...  {u'appearances': 30, u'jun_yusho': 1, u'withdr...   \n",
       "\n",
       "                                   maegashira_record                                       juryo_record                                   makushita_record                                    sandanme_record                                     jonidan_record                                   jonokuchi_record  \n",
       "0  {u'appearances': 75, u'jun_yusho': 1, u'withdr...  {u'appearances': 30, u'jun_yusho': None, u'wit...  {u'appearances': 35, u'jun_yusho': None, u'wit...  {u'appearances': 42, u'jun_yusho': None, u'wit...  {u'appearances': 21, u'jun_yusho': None, u'wit...  {u'appearances': 14, u'jun_yusho': None, u'wit...  "
      ]
     },
     "execution_count": 6,
     "metadata": {},
     "output_type": "execute_result"
    }
   ],
   "source": [
    "cols = [u'shikona', u'highest_rank', u'bday', u'age', u'birth_place', u'height', u'weight', u'sumo_stable', \\\n",
    "        u'active_years', u'debut', u'entry_rank', u'retirement', u'career_record', u'makuuchi_record', \\\n",
    "        u'yokozuna_record', u'ozeki_record', u'sekiwake_record', u'komusubi_record', u'maegashira_record', \\\n",
    "        u'juryo_record', u'makushita_record', u'sandanme_record', u'jonidan_record', u'jonokuchi_record']\n",
    "rikishi_df = pd.DataFrame(columns=cols) # initialize dataframe\n",
    "compiled_stats = [shikona, highest_rank, bday, age, birth_place, height, weight, sumo_stable, \\\n",
    "                  active_years, debut, entry_rank, retirement, career_record_dict, makuuchi_record_dict, \\\n",
    "                  yokozuna_record_dict, ozeki_record_dict, sekiwake_record_dict, komusubi_record_dict, \\\n",
    "                  maegashira_record_dict, juryo_record_dict, makushita_record_dict, sandanme_record_dict, \\\n",
    "                  jonidan_record_dict, jonokuchi_record_dict]\n",
    "rikishi_df.loc[len(rikishi_df.index)] = compiled_stats\n",
    "\n",
    "rikishi_df.head()\n",
    "\n",
    "\n"
   ]
  },
  {
   "cell_type": "code",
   "execution_count": 30,
   "metadata": {
    "collapsed": false
   },
   "outputs": [
    {
     "data": {
      "text/plain": [
       "{u'appearances': 14,\n",
       " u'gino_sho': None,\n",
       " u'jun_yusho': None,\n",
       " u'kanto_sho': None,\n",
       " u'kinboshi': None,\n",
       " u'losses': 6,\n",
       " u'shukun_sho': None,\n",
       " u'tourneys': 2,\n",
       " u'wins': 8,\n",
       " u'withdrawals': None,\n",
       " u'yusho': None}"
      ]
     },
     "execution_count": 30,
     "metadata": {},
     "output_type": "execute_result"
    }
   ],
   "source": [
    "rikishi_df.loc[0]['jonokuchi_record']"
   ]
  },
  {
   "cell_type": "code",
   "execution_count": null,
   "metadata": {
    "collapsed": true
   },
   "outputs": [],
   "source": []
  },
  {
   "cell_type": "markdown",
   "metadata": {},
   "source": [
    "# Scratch Work"
   ]
  },
  {
   "cell_type": "code",
   "execution_count": 47,
   "metadata": {
    "collapsed": false
   },
   "outputs": [
    {
     "name": "stdout",
     "output_type": "stream",
     "text": [
      "[u'37 Yusho', u'21 Jun-Yusho', u'2 Gino-Sho', u'3 Shukun-Sho', u'1 Kanto-Sho', u'1 Kinboshi']\n",
      "6\n",
      "[u'37']\n",
      "37\n",
      "[u'21']\n",
      "21\n"
     ]
    }
   ],
   "source": [
    "import re \n",
    "record = u'925-167-48/1090 (76 basho), 37 Yusho, 21 Jun-Yusho, 2 Gino-Sho, 3 Shukun-Sho, 1 Kanto-Sho, 1 Kinboshi'\n",
    "reg_exp = re.compile('^(\\d+)-(\\d+)(?:-)?(\\d+)?(-[a-zA-Z0-9-]+)?/(\\d+)\\s\\((\\d+)\\sbasho\\)(?:,\\s)?(.+)?$', re.UNICODE)\n",
    "result = reg_exp.match(record)\n",
    "stats = result.groups()\n",
    "parse_list = stats[6].split(', ')\n",
    "print parse_list\n",
    "print len(parse_list)\n",
    "for award in parse_list:\n",
    "    if 'Yusho' in award and 'Jun-Yusho' not in award:\n",
    "        find_list = re.findall('\\d+', award)\n",
    "        print find_list\n",
    "        yusho = int(find_list[0])\n",
    "        print yusho\n",
    "    if 'Jun-Yusho' in award:\n",
    "        find_list = re.findall('\\d+', award)\n",
    "        print find_list\n",
    "        jun_yusho = int(find_list[0])\n",
    "        print jun_yusho"
   ]
  }
 ],
 "metadata": {
  "anaconda-cloud": {},
  "kernelspec": {
   "display_name": "Python [default]",
   "language": "python",
   "name": "python2"
  },
  "language_info": {
   "codemirror_mode": {
    "name": "ipython",
    "version": 2
   },
   "file_extension": ".py",
   "mimetype": "text/x-python",
   "name": "python",
   "nbconvert_exporter": "python",
   "pygments_lexer": "ipython2",
   "version": "2.7.12"
  }
 },
 "nbformat": 4,
 "nbformat_minor": 1
}
