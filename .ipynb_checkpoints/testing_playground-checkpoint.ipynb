{
 "cells": [
  {
   "cell_type": "markdown",
   "metadata": {},
   "source": [
    "# Playground for Testing"
   ]
  },
  {
   "cell_type": "markdown",
   "metadata": {},
   "source": [
    "# Obtaining Rikishi Rows"
   ]
  },
  {
   "cell_type": "code",
   "execution_count": 8,
   "metadata": {
    "collapsed": false
   },
   "outputs": [],
   "source": [
    "import urllib2\n",
    "import bs4\n",
    "db_url = r\"http://sumodb.sumogames.de/Rikishi.aspx?shikona=&heya=-1&shusshin=-1&b=-1&high=-1&hd=-1&entry=-1&intai=-1&sort=6\"\n",
    "\n",
    "source = urllib2.urlopen(db_url).read()\n",
    "soup = bs4.BeautifulSoup(source, 'lxml')\n",
    "\n",
    "right_td = soup.findAll('td', {'class': 'layoutright'})\n",
    "rows = right_td[0].findAll('tr')  # take first td with layoutright class"
   ]
  },
  {
   "cell_type": "code",
   "execution_count": 24,
   "metadata": {
    "collapsed": false
   },
   "outputs": [
    {
     "data": {
      "text/plain": [
       "<tr>\\n<td><a href=\"Rikishi.aspx?r=3702\">Yamanishiki</a></td><td>Dewanoumi</td><td>Osaka</td><td>April 17, 1898</td><td>Sekiwake</td><td>1917.05</td><td>1932.01</td><td>Yamanishiki</td>\\n</tr>"
      ]
     },
     "execution_count": 24,
     "metadata": {},
     "output_type": "execute_result"
    }
   ],
   "source": [
    "rows[1795]"
   ]
  },
  {
   "cell_type": "markdown",
   "metadata": {},
   "source": [
    "# Scrape Full H2H Data"
   ]
  },
  {
   "cell_type": "code",
   "execution_count": 10,
   "metadata": {
    "collapsed": false
   },
   "outputs": [],
   "source": [
    "import urllib2\n",
    "# import requests\n",
    "import bs4\n",
    "import time\n",
    "import pandas as pd\n",
    "from rikishi_scrape import bouturl_scrape, h2h_scrape\n",
    "from data_extraction import extract_date, extract_tourney_day, extract_h2h_rank, extract_outcome, extract_kimarite\n",
    "\n",
    "rikishi_df = pd.read_pickle('data/all_rikishi.pkl')"
   ]
  },
  {
   "cell_type": "code",
   "execution_count": 11,
   "metadata": {
    "collapsed": true
   },
   "outputs": [],
   "source": [
    "cols = [u'ID1', u'shikona1', u'ID2', u'shikona2', u'ID1_wins', u'ID2_wins', u'flag']\n",
    "h2h_df = pd.DataFrame(columns=cols)"
   ]
  },
  {
   "cell_type": "code",
   "execution_count": 12,
   "metadata": {
    "collapsed": true
   },
   "outputs": [],
   "source": [
    "db_url = \"http://sumodb.sumogames.de/Rikishi.aspx?shikona=&heya=-1&shusshin=-1&b=201701&high=1&hd=-1&entry=-1&intai=-1&sort=4\"\n"
   ]
  },
  {
   "cell_type": "code",
   "execution_count": 13,
   "metadata": {
    "collapsed": false
   },
   "outputs": [
    {
     "name": "stdout",
     "output_type": "stream",
     "text": [
      "HTML turned into soup\n"
     ]
    }
   ],
   "source": [
    "source = urllib2.urlopen(db_url).read()\n",
    "# source = requests.get(db_url).text\n",
    "soup = bs4.BeautifulSoup(source, 'lxml')  # turn into soup\n",
    "\n",
    "print 'HTML turned into soup'"
   ]
  },
  {
   "cell_type": "code",
   "execution_count": 14,
   "metadata": {
    "collapsed": true
   },
   "outputs": [],
   "source": [
    "# obtain rows in database (rikishi to loop over)\n",
    "right_td = soup.findAll('td', {'class': 'layoutright'})\n",
    "rows = right_td[0].findAll('tr')  # take first td with layoutright class\n",
    "\n",
    "\n",
    "# ----------------- Loop Over Multiple Rikishi Profiles ------------------ #\n",
    "\n",
    "start = time.time()\n",
    "\n",
    "# data suggest that rikishi_df rows failing following conditions do not have useful or any bout data\n",
    "# pd.notnull(x) checks for None, NaN, and NaT\n",
    "logical = rikishi_df['shikona'].map(lambda x: x is not None) & \\\n",
    "          rikishi_df['sumo_stable'].map(lambda x: x is not None) & \\\n",
    "          rikishi_df['bday'].map(lambda x: pd.notnull(x)) & \\\n",
    "          rikishi_df['debut'].map(lambda x: pd.notnull(x))\n",
    "filtered_df = rikishi_df[logical]"
   ]
  },
  {
   "cell_type": "code",
   "execution_count": 15,
   "metadata": {
    "collapsed": true
   },
   "outputs": [],
   "source": [
    "# full_h2h_scrape:\n",
    "# takes in shikona1, ID1, bout_url, filtered_df\n",
    "# goes to each record, loops through individual h2h outcomes, storing:\n",
    "# - date, day of tourney, rank at the time, kimarite, and outcome\n",
    "\n",
    "# limitations: does not reflect certain features at the time\n",
    "#      (e.g. height, weight)\n",
    "#      though other features such as age, active years can be calculated"
   ]
  },
  {
   "cell_type": "code",
   "execution_count": 16,
   "metadata": {
    "collapsed": true
   },
   "outputs": [],
   "source": [
    "shikona1 = u'Hakuho Sho'\n",
    "ID1 = 11118\n",
    "bout_url = r'http://sumodb.sumogames.de/Rikishi_opp.aspx?r=1123'"
   ]
  },
  {
   "cell_type": "code",
   "execution_count": 17,
   "metadata": {
    "collapsed": false
   },
   "outputs": [],
   "source": [
    "data_rows = []\n",
    "\n",
    "source = urllib2.urlopen(bout_url).read()\n",
    "# source = requests.get(bout_url).text\n",
    "soup = bs4.BeautifulSoup(source, 'lxml')  # turn into soup\n",
    "\n",
    "# head2head record containing rikishi names and win-loss data are located in \"spans\" in html\n",
    "h2h_records = soup.findAll('span', {'class': 'rb_basho'})"
   ]
  },
  {
   "cell_type": "markdown",
   "metadata": {},
   "source": [
    "# Testing"
   ]
  },
  {
   "cell_type": "code",
   "execution_count": 1,
   "metadata": {
    "collapsed": true
   },
   "outputs": [],
   "source": [
    "from rikishi_scrape import full_h2h_scrape\n",
    "import pandas as pd\n",
    "\n",
    "rikishi_df = pd.read_pickle('data/all_rikishi.pkl')"
   ]
  },
  {
   "cell_type": "code",
   "execution_count": 2,
   "metadata": {
    "collapsed": false
   },
   "outputs": [],
   "source": [
    "logical = rikishi_df['shikona'].map(lambda x: x is not None) & \\\n",
    "          rikishi_df['sumo_stable'].map(lambda x: x is not None) & \\\n",
    "          rikishi_df['bday'].map(lambda x: pd.notnull(x)) & \\\n",
    "          rikishi_df['debut'].map(lambda x: pd.notnull(x))\n",
    "filtered_df = rikishi_df[logical]\n",
    "\n",
    "shikona1 = u'Hakuho Sho'\n",
    "ID1 = 11118\n",
    "bout_url = r'http://sumodb.sumogames.de/Rikishi_opp.aspx?r=1123'"
   ]
  },
  {
   "cell_type": "code",
   "execution_count": 3,
   "metadata": {
    "collapsed": true
   },
   "outputs": [
    {
     "name": "stdout",
     "output_type": "stream",
     "text": [
      " Number of Records: 195\n",
      "Akiasahi\n",
      "Ako\n",
      "Aminishiki\n",
      "Aoiyama\n",
      "Aran\n",
      "Aranonami\n",
      "Arawashi\n",
      "Asairyu\n",
      "Asanowaka\n",
      "Asasekiryu\n",
      "Asashoryu\n",
      "Asatofuji\n",
      "Azumadake\n",
      "Baruto\n",
      "Bushuyama\n",
      "Buyuzan\n",
      "Chiyootori\n",
      "Chiyotaikai\n",
      "Chiyotairyu\n",
      "Daihoyama\n",
      "Daimanazuru\n",
      "Daionami\n",
      "Dairaido\n",
      "Daishochi\n",
      "Daishoma\n",
      "Daitenzan\n",
      "Dejima\n",
      "Dewanofuji\n",
      "Endo\n",
      "Fujinoshima\n",
      "Fukuseyama\n",
      "Furuichi\n",
      "Furukawa\n",
      "Futeno\n",
      "Gagamaru\n",
      "Goeido\n",
      "Gojoro\n",
      "Hakuba\n",
      "Hakurozan\n",
      "Hamamoto\n",
      "Hamanishiki\n",
      "Harumafuji\n",
      "Harunoyama\n",
      "Hayashi\n",
      "Hayateumi\n",
      "Hiranoyama\n",
      "Hisanohana\n",
      "Hokutonada\n",
      "Hokutoriki\n",
      "Hokutosho\n",
      "Homasho\n",
      "Hoshitango\n",
      "Ichinojo\n",
      "Ichinotani\n",
      "Ieda\n",
      "Ikioi\n",
      "Iwakiyama\n",
      "Jokoryu\n",
      "Juzan\n",
      "Kaido\n",
      "Kaiho\n",
      "Kaio\n",
      "Kaisei\n",
      "Kakizoe\n",
      "Kakuryu\n",
      "Kanaya\n",
      "Kasugakuni\n",
      "Kasuganami\n",
      "Kasugao\n",
      "Katayama\n",
      "Kimenryu\n",
      "Kinkaiyama\n",
      "Kinoshita\n",
      "Kirinofuji\n",
      "Kirinoumi\n",
      "Kisenosato\n",
      "Kisomitsuru\n",
      "Kitakasuga\n",
      "Kitataiki\n",
      "Kodama\n",
      "Kokkai\n",
      "Koryuyama\n",
      "Koshinoryu\n",
      "Koshinoyama\n",
      "Kotomitsuki\n",
      "Kotonomine\n",
      "Kotonowaka\n",
      "Kotooshu\n",
      "Kotoshogiku\n",
      "Kotoyuki\n",
      "Kubota\n",
      "Kuniazuma\n",
      "Kyokuhikari\n",
      "Kyokushuzan\n",
      "Kyokutenho\n",
      "Maenowaka\n",
      "Masutsuyoshi\n",
      "Midorifuji\n",
      "Minaminoshima\n",
      "Misugikuni\n",
      "Mitakeumi\n",
      "Miyabiyama\n",
      "Murata\n",
      "Musoyama\n",
      "Myogiryu\n",
      "Nakabuchi\n",
      "Nakao\n",
      "Natsubori\n",
      "Nishisegawa\n",
      "Oga\n",
      "Oginishiki\n",
      "Ohidake\n",
      "Okinoumi\n",
      "Okoyama\n",
      "Ominami\n",
      "Onochikara\n",
      "Orora\n",
      "Oseumi\n",
      "Osunaarashi\n",
      "Raiko\n",
      "Roho\n",
      "Ryuho\n",
      "Ryukiyama\n",
      "Sadanoumi\n",
      "Shimotori\n",
      "Shindo\n",
      "Shodai\n",
      "Shohozan\n",
      "Shoji\n",
      "Shotenro\n",
      "Sumanofuji\n",
      "Suzukawa\n",
      "Taiga\n",
      "Taiyo\n",
      "Takafurukawa\n",
      "Takahijiri\n",
      "Takakoyama\n",
      "Takamaru\n",
      "Takamihana\n",
      "Takamisakari\n",
      "Takanoiwa\n",
      "Takanotsuru\n",
      "Takanoumi\n",
      "Takanowaka\n",
      "Takao\n",
      "Takarafuji\n",
      "Takayasu\n",
      "Takekaze\n",
      "Takinooto\n",
      "Tamaaoi\n",
      "Tamakasuga\n",
      "Tamanoshima\n",
      "Tamatsurugi\n",
      "Tamawashi\n",
      "Tatsuyutaka\n",
      "Tenichi\n",
      "Terukaze\n",
      "Terunofuji\n",
      "Tetsuhikari\n",
      "Tochiazuma\n",
      "Tochifudo\n",
      "Tochinohana\n",
      "Tochinonada\n",
      "Tochinoshin\n",
      "Tochinowaka\n",
      "Tochiozan\n",
      "Tochisakae\n",
      "Tochitaiho\n",
      "Tokinoboru\n",
      "Tokitenku\n",
      "Tokitsukasa\n",
      "Tokitsuumi\n",
      "Tokusegawa\n",
      "Tokushoryu\n",
      "Tosanoumi\n",
      "Tosayutaka\n",
      "Toshinyama\n",
      "Towanoyama\n",
      "Toyohibiki\n",
      "Toyonoshima\n",
      "Toyozakura\n",
      "Tsurunosho\n",
      "Uchigoshiki\n",
      "Wakakosho\n",
      "Wakakoyu\n",
      "Wakanoho\n",
      "Wakanosato\n",
      "Wakanoyama\n",
      "Wakashinobu\n",
      "Wakataizan\n",
      "Wakatenro\n",
      "Yamane\n",
      "Yamasaki\n",
      "Yoshiazuma\n",
      "Yoshikaze\n",
      "\n",
      "Mean Loop Exec Time: 0.368\n",
      "Std Loop Exec Time : 1.087\n",
      "\n",
      "Mean Loop2 Exec Time: 0.0553\n",
      "Std Loop2 Exec Time : 0.0391\n",
      "\n",
      "Mean Loop3 Exec Time: 0.0552\n",
      "Std Loop3 Exec Time : 0.0391\n",
      "\n"
     ]
    }
   ],
   "source": [
    "data_rows = full_h2h_scrape(shikona1, ID1, bout_url, filtered_df)\n",
    "\n",
    "# Benchmark: \n",
    "# Outer loop mean time = 0.35\n",
    "# Outer loop std time  = 1.05\n",
    "# looping through the inner rows takes the most time of each record loop (.334/0.35), what can be improved?\n",
    "\n",
    "# Inner loop mean time =  0.053\n",
    "# Inner loop std time  = 0.038\n",
    "\n",
    "# outer loop is avg of 0.35 seconds for each record, if there are 200 records, 60 seconds"
   ]
  },
  {
   "cell_type": "code",
   "execution_count": 6,
   "metadata": {
    "collapsed": false
   },
   "outputs": [
    {
     "data": {
      "text/plain": [
       "1245"
      ]
     },
     "execution_count": 6,
     "metadata": {},
     "output_type": "execute_result"
    }
   ],
   "source": [
    "len(data_rows)"
   ]
  },
  {
   "cell_type": "markdown",
   "metadata": {},
   "source": [
    "# Test MultiThreading on scrape_multiple_h2h.py"
   ]
  },
  {
   "cell_type": "code",
   "execution_count": 8,
   "metadata": {
    "collapsed": true
   },
   "outputs": [],
   "source": [
    "# initialize four threads, one for each core\n",
    "# get each thread to use full_h2h_scrape\n",
    "# compile the results from each thread\n",
    "\n",
    "import multiprocessing"
   ]
  },
  {
   "cell_type": "code",
   "execution_count": 9,
   "metadata": {
    "collapsed": false
   },
   "outputs": [
    {
     "name": "stdout",
     "output_type": "stream",
     "text": [
      "Worker: 0\n",
      "Worker: 1\n",
      "Worker: 2\n",
      "Worker: 3\n",
      "Worker: 4\n"
     ]
    }
   ],
   "source": [
    "def worker(num):\n",
    "    \"\"\"thread worker function\"\"\"\n",
    "    print 'Worker:', num\n",
    "    return\n",
    "\n",
    "if __name__ == '__main__':\n",
    "    jobs = []\n",
    "    for i in range(5):  # number of processes to start\n",
    "        p = multiprocessing.Process(target=worker, args=(i,))\n",
    "        jobs.append(p)\n",
    "        p.start()"
   ]
  },
  {
   "cell_type": "code",
   "execution_count": 10,
   "metadata": {
    "collapsed": false
   },
   "outputs": [
    {
     "data": {
      "text/plain": [
       "[<Process(Process-1, stopped)>,\n",
       " <Process(Process-2, stopped)>,\n",
       " <Process(Process-3, stopped)>,\n",
       " <Process(Process-4, stopped)>,\n",
       " <Process(Process-5, stopped)>]"
      ]
     },
     "execution_count": 10,
     "metadata": {},
     "output_type": "execute_result"
    }
   ],
   "source": [
    "jobs"
   ]
  },
  {
   "cell_type": "markdown",
   "metadata": {},
   "source": [
    "# Test Full H2H Data"
   ]
  },
  {
   "cell_type": "code",
   "execution_count": 1,
   "metadata": {
    "collapsed": false
   },
   "outputs": [],
   "source": [
    "import pandas as pd\n",
    "import time\n",
    "from datetime import datetime\n",
    "from ml_fxns import calculate_age, calculate_active_years, map_rank, calculate_h2h_wp\n",
    "\n",
    "rikishi_df = pd.read_pickle('data/all_rikishi.pkl')\n",
    "h2h_df = pd.read_pickle('data/recent_full_h2h.pkl')"
   ]
  },
  {
   "cell_type": "markdown",
   "metadata": {},
   "source": [
    "## Testing H2H WP function"
   ]
  },
  {
   "cell_type": "code",
   "execution_count": 2,
   "metadata": {
    "collapsed": false
   },
   "outputs": [
    {
     "name": "stderr",
     "output_type": "stream",
     "text": [
      "/Users/vincentchow/anaconda/lib/python2.7/site-packages/ipykernel/__main__.py:9: UserWarning: Boolean Series key will be reindexed to match DataFrame index.\n"
     ]
    }
   ],
   "source": [
    "ID1 = 11118\n",
    "ID2 = 9761\n",
    "date = datetime(2017, 3, 12, 0)\n",
    "\n",
    "logical = ((h2h_df['ID1'] == ID1) & (h2h_df['ID2'] == ID2)) | \\\n",
    "          ((h2h_df['ID1'] == ID2) & (h2h_df['ID2'] == ID1))\n",
    "rel_df = h2h_df[logical]\n",
    "\n",
    "logical = (h2h_df['date'] < date)  # h2h date is less than current date\n",
    "rel_df = rel_df[logical]\n",
    "\n",
    "h2h_wp1, h2h_wp2 = calculate_h2h_wp(date, rel_df, ID1)"
   ]
  },
  {
   "cell_type": "code",
   "execution_count": 12,
   "metadata": {
    "collapsed": false
   },
   "outputs": [
    {
     "data": {
      "text/plain": [
       "192803"
      ]
     },
     "execution_count": 12,
     "metadata": {},
     "output_type": "execute_result"
    }
   ],
   "source": [
    "len(h2h_df)"
   ]
  },
  {
   "cell_type": "code",
   "execution_count": 11,
   "metadata": {
    "collapsed": false
   },
   "outputs": [
    {
     "data": {
      "text/plain": [
       "0.6666666666666666"
      ]
     },
     "execution_count": 11,
     "metadata": {},
     "output_type": "execute_result"
    }
   ],
   "source": [
    "rel_df\n",
    "6.0/9.0"
   ]
  },
  {
   "cell_type": "code",
   "execution_count": 63,
   "metadata": {
    "collapsed": false
   },
   "outputs": [
    {
     "data": {
      "text/html": [
       "<div>\n",
       "<table border=\"1\" class=\"dataframe\">\n",
       "  <thead>\n",
       "    <tr style=\"text-align: right;\">\n",
       "      <th></th>\n",
       "      <th>date</th>\n",
       "      <th>tourney_day</th>\n",
       "      <th>ID1</th>\n",
       "      <th>shikona1</th>\n",
       "      <th>rank1</th>\n",
       "      <th>outcome1</th>\n",
       "      <th>kimarite</th>\n",
       "      <th>ID2</th>\n",
       "      <th>shikona2</th>\n",
       "      <th>rank2</th>\n",
       "      <th>outcome2</th>\n",
       "      <th>flag</th>\n",
       "    </tr>\n",
       "  </thead>\n",
       "  <tbody>\n",
       "    <tr>\n",
       "      <th>19424</th>\n",
       "      <td>2001-03-01</td>\n",
       "      <td>3.0</td>\n",
       "      <td>10164.0</td>\n",
       "      <td>Shimotori Norio - Shimootori Norio - Shimotori...</td>\n",
       "      <td>Makushita 4</td>\n",
       "      <td>shiro</td>\n",
       "      <td>yorikiri</td>\n",
       "      <td>9948.0</td>\n",
       "      <td>Daimanazuru</td>\n",
       "      <td>Makushita 5</td>\n",
       "      <td>kuro</td>\n",
       "      <td>False</td>\n",
       "    </tr>\n",
       "  </tbody>\n",
       "</table>\n",
       "</div>"
      ],
      "text/plain": [
       "            date  tourney_day      ID1  \\\n",
       "19424 2001-03-01          3.0  10164.0   \n",
       "\n",
       "                                                shikona1        rank1  \\\n",
       "19424  Shimotori Norio - Shimootori Norio - Shimotori...  Makushita 4   \n",
       "\n",
       "      outcome1  kimarite     ID2     shikona2        rank2 outcome2   flag  \n",
       "19424    shiro  yorikiri  9948.0  Daimanazuru  Makushita 5     kuro  False  "
      ]
     },
     "execution_count": 63,
     "metadata": {},
     "output_type": "execute_result"
    }
   ],
   "source": [
    "row = h2h_df.loc[19424]\n",
    "ID1 = row['ID1']\n",
    "ID2 = row['ID2']\n",
    "date = row['date']\n",
    "tourney_day = row['tourney_day']\n",
    "kimarite = row['kimarite']\n",
    "outcome1 = row['outcome1']\n",
    "outcome2 = row['outcome2']\n",
    "rank1 = row['rank1']\n",
    "rank2 = row['rank2']\n",
    "\n",
    "# filter for duplicates\n",
    "logical = (h2h_df['ID1'] == ID1) & (h2h_df['ID2'] == ID2) & \\\n",
    "          (h2h_df['outcome1'] == outcome1) & (h2h_df['outcome2'] == outcome2) & \\\n",
    "          (h2h_df['date'] == date) & (h2h_df['tourney_day'] == tourney_day) & \\\n",
    "          (h2h_df['kimarite'] == kimarite)\n",
    "            \n",
    "rel_df = h2h_df[logical]\n",
    "rel_df"
   ]
  },
  {
   "cell_type": "code",
   "execution_count": null,
   "metadata": {
    "collapsed": true
   },
   "outputs": [],
   "source": []
  },
  {
   "cell_type": "code",
   "execution_count": null,
   "metadata": {
    "collapsed": true
   },
   "outputs": [],
   "source": []
  },
  {
   "cell_type": "code",
   "execution_count": null,
   "metadata": {
    "collapsed": true
   },
   "outputs": [],
   "source": []
  },
  {
   "cell_type": "code",
   "execution_count": null,
   "metadata": {
    "collapsed": true
   },
   "outputs": [],
   "source": []
  },
  {
   "cell_type": "code",
   "execution_count": 2,
   "metadata": {
    "collapsed": true
   },
   "outputs": [],
   "source": [
    "logical = (h2h_df['rank1'] != u'None') & (h2h_df['rank2'] != u'None') & (h2h_df['kimarite'] != u'None')\n",
    "h2h_df = h2h_df[logical]"
   ]
  },
  {
   "cell_type": "code",
   "execution_count": 3,
   "metadata": {
    "collapsed": false
   },
   "outputs": [],
   "source": [
    "# remove outcomes that were draws or defaults\n",
    "logical = ((h2h_df['outcome1'] == u'shiro') | (h2h_df['outcome1'] == u'kuro')) & ((h2h_df['outcome2'] == u'shiro') |\n",
    "          (h2h_df['outcome2'] == u'kuro'))\n",
    "h2h_df = h2h_df[logical]"
   ]
  },
  {
   "cell_type": "code",
   "execution_count": null,
   "metadata": {
    "collapsed": true
   },
   "outputs": [],
   "source": [
    "# sort chronologically\n",
    "h2h_df = h2h_df.sort_values(by='date', ascending=True)  # 2000 --> 2017"
   ]
  },
  {
   "cell_type": "code",
   "execution_count": 11,
   "metadata": {
    "collapsed": false
   },
   "outputs": [],
   "source": [
    "logical = ((h2h_df['ID1'] == 11118) & (h2h_df['ID2'] == 11267)) | \\\n",
    "          ((h2h_df['ID2'] == 11267) & (h2h_df['ID1'] == 11118))\n",
    "\n",
    "rel_df = h2h_df[logical]"
   ]
  },
  {
   "cell_type": "code",
   "execution_count": 8,
   "metadata": {
    "collapsed": false
   },
   "outputs": [
    {
     "data": {
      "text/html": [
       "<div>\n",
       "<table border=\"1\" class=\"dataframe\">\n",
       "  <thead>\n",
       "    <tr style=\"text-align: right;\">\n",
       "      <th></th>\n",
       "      <th>date</th>\n",
       "      <th>tourney_day</th>\n",
       "      <th>ID1</th>\n",
       "      <th>shikona1</th>\n",
       "      <th>rank1</th>\n",
       "      <th>outcome1</th>\n",
       "      <th>kimarite</th>\n",
       "      <th>ID2</th>\n",
       "      <th>shikona2</th>\n",
       "      <th>rank2</th>\n",
       "      <th>outcome2</th>\n",
       "      <th>flag</th>\n",
       "    </tr>\n",
       "  </thead>\n",
       "  <tbody>\n",
       "    <tr>\n",
       "      <th>0</th>\n",
       "      <td>2011-11-01</td>\n",
       "      <td>4.0</td>\n",
       "      <td>10722.0</td>\n",
       "      <td>Asanotosa Sho</td>\n",
       "      <td>Sandanme 23</td>\n",
       "      <td>kuro</td>\n",
       "      <td>tsukiotoshi</td>\n",
       "      <td>11888.0</td>\n",
       "      <td>Akinokawa</td>\n",
       "      <td>Sandanme 25</td>\n",
       "      <td>shiro</td>\n",
       "      <td>False</td>\n",
       "    </tr>\n",
       "    <tr>\n",
       "      <th>223019</th>\n",
       "      <td>2011-11-01</td>\n",
       "      <td>4.0</td>\n",
       "      <td>11888.0</td>\n",
       "      <td>Akinokawa Mitsuhiro</td>\n",
       "      <td>Sandanme 25</td>\n",
       "      <td>shiro</td>\n",
       "      <td>tsukiotoshi</td>\n",
       "      <td>10722.0</td>\n",
       "      <td>Asanotosa</td>\n",
       "      <td>Sandanme 23</td>\n",
       "      <td>kuro</td>\n",
       "      <td>False</td>\n",
       "    </tr>\n",
       "  </tbody>\n",
       "</table>\n",
       "</div>"
      ],
      "text/plain": [
       "             date  tourney_day      ID1             shikona1        rank1  \\\n",
       "0      2011-11-01          4.0  10722.0        Asanotosa Sho  Sandanme 23   \n",
       "223019 2011-11-01          4.0  11888.0  Akinokawa Mitsuhiro  Sandanme 25   \n",
       "\n",
       "       outcome1     kimarite      ID2   shikona2        rank2 outcome2   flag  \n",
       "0          kuro  tsukiotoshi  11888.0  Akinokawa  Sandanme 25    shiro  False  \n",
       "223019    shiro  tsukiotoshi  10722.0  Asanotosa  Sandanme 23     kuro  False  "
      ]
     },
     "execution_count": 8,
     "metadata": {},
     "output_type": "execute_result"
    }
   ],
   "source": [
    "rel_df"
   ]
  },
  {
   "cell_type": "code",
   "execution_count": 6,
   "metadata": {
    "collapsed": true
   },
   "outputs": [],
   "source": [
    "# How to Generate Features?\n",
    "\n",
    "# current features to try: height, weight, age, active years, highest_rank, h2h_diff\n",
    "# for h2h_diff, need to do time discounting\n",
    "\n",
    "# iterate over each row in all_rikishi_full_h2h.pkl\n",
    "\n",
    "# for each row:\n",
    "# - calculate height & weight diff\n",
    "# - calculate age diff based on birth date in profile, and date of tourney\n",
    "# - calculate active years diff based on debut (hatsu dohyo) and date of tourney\n",
    "# - calculate rank diff from h2h rows (not from basic profile)\n",
    "# - calculate h2h win percentage diff, looking at all previous encounters to the tourney date\n",
    "\n"
   ]
  },
  {
   "cell_type": "code",
   "execution_count": 51,
   "metadata": {
    "collapsed": false
   },
   "outputs": [
    {
     "data": {
      "image/png": "[encoded data removed]",
      "text/plain": [
       "<matplotlib.figure.Figure at 0x124f04dd0>"
      ]
     },
     "metadata": {},
     "output_type": "display_data"
    }
   ],
   "source": [
    "import numpy as np\n",
    "import seaborn as sns\n",
    "import matplotlib.pyplot as plt\n",
    "%matplotlib inline\n",
    "\n",
    "N = 100\n",
    "time = np.linspace(0, 10, N)\n",
    "\n",
    "factor = 0.8\n",
    "\n",
    "factor_exp = np.power(np.ones(N)*factor, time)\n",
    "\n",
    "weights = np.minimum(factor_exp, factor)\n",
    "\n",
    "data_set = pd.DataFrame({'weights': weights, 'time': time})\n",
    "\n",
    "sns.set_style(\"darkgrid\")\n",
    "fig1 = plt.figure()\n",
    "plt.title('Time Discounting Weights vs. Time')\n",
    "ax = sns.regplot(x=\"time\", y=\"weights\", data=data_set, fit_reg=False)\n",
    "ax.set(xlabel=\"Time Since Match [yrs]\", ylabel=\"Weights\");\n",
    "\n",
    "# do a lookup table? find closest 0.1 yr point nearest, and lookup its weight?"
   ]
  },
  {
   "cell_type": "markdown",
   "metadata": {},
   "source": [
    "# Automatically Load Match Schedule for Predictions"
   ]
  },
  {
   "cell_type": "code",
   "execution_count": null,
   "metadata": {
    "collapsed": true
   },
   "outputs": [],
   "source": [
    "# spit out txt file with results (outcome and probabilities), for copying over to excel"
   ]
  },
  {
   "cell_type": "code",
   "execution_count": null,
   "metadata": {
    "collapsed": true
   },
   "outputs": [],
   "source": []
  },
  {
   "cell_type": "code",
   "execution_count": null,
   "metadata": {
    "collapsed": true
   },
   "outputs": [],
   "source": []
  }
 ],
 "metadata": {
  "anaconda-cloud": {},
  "kernelspec": {
   "display_name": "Python [default]",
   "language": "python",
   "name": "python2"
  },
  "language_info": {
   "codemirror_mode": {
    "name": "ipython",
    "version": 2
   },
   "file_extension": ".py",
   "mimetype": "text/x-python",
   "name": "python",
   "nbconvert_exporter": "python",
   "pygments_lexer": "ipython2",
   "version": "2.7.12"
  }
 },
 "nbformat": 4,
 "nbformat_minor": 1
}
