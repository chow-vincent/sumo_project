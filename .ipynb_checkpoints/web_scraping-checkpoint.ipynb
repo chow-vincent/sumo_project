{
 "cells": [
  {
   "cell_type": "markdown",
   "metadata": {},
   "source": [
    "# Useful Commands for Web Scraping\n",
    "## Beautiful Soup: \n",
    "https://www.crummy.com/software/BeautifulSoup/bs4/doc/#navigating-the-tree"
   ]
  },
  {
   "cell_type": "code",
   "execution_count": 1,
   "metadata": {
    "collapsed": true
   },
   "outputs": [],
   "source": [
    "import urllib2\n",
    "import bs4 #this is beautiful soup"
   ]
  },
  {
   "cell_type": "code",
   "execution_count": 2,
   "metadata": {
    "collapsed": true
   },
   "outputs": [],
   "source": [
    "url = \"http://sumodb.sumogames.de/Rikishi.aspx?r=1123\"\n",
    "\n",
    "source = urllib2.urlopen(url).read()\n",
    "\n",
    "soup = bs4.BeautifulSoup(source, 'lxml') # turn into soup, lxml is fastest parser"
   ]
  },
  {
   "cell_type": "code",
   "execution_count": 7,
   "metadata": {
    "collapsed": false
   },
   "outputs": [
    {
     "name": "stdout",
     "output_type": "stream",
     "text": [
      "Cells: \n",
      "[<td class=\"cat\">Highest Rank</td>, <td class=\"val\">Yokozuna (May 2007)</td>]\n",
      "Second Cell: \n",
      "<td class=\"val\">Yokozuna (May 2007)</td>\n",
      "Previous Cell Element: \n",
      "Highest Rank\n",
      "Next Cell Element: \n",
      "<td class=\"val\">Yokozuna (May 2007)</td>\n"
     ]
    }
   ],
   "source": [
    "tables = soup.findAll('table', {'class': 'rikishidata'})\n",
    "\n",
    "rows = tables[1].findAll('tr') # there are two tables with the same class, pick #2\n",
    "\n",
    "n = True\n",
    "for row in rows: # iterate through rows\n",
    "    if n:\n",
    "        cells = row.findAll('td')\n",
    "        print \"Cells: \"\n",
    "        print cells\n",
    "        cell2 = cells[0].next_sibling # row is a parent, cells are children w/ siblings\n",
    "        print \"Second Cell: \"\n",
    "        print cell2\n",
    "        cell1 = cell2.previous_element # can go back and forth in order of what was parsed\n",
    "        n=False\n",
    "        print \"Previous Cell Element: \"\n",
    "        print cell1\n",
    "        cell_final = cell1.next_element\n",
    "        print \"Next Cell Element: \"\n",
    "        print cell_final"
   ]
  },
  {
   "cell_type": "code",
   "execution_count": null,
   "metadata": {
    "collapsed": true
   },
   "outputs": [],
   "source": []
  }
 ],
 "metadata": {
  "kernelspec": {
   "display_name": "Python [default]",
   "language": "python",
   "name": "python2"
  },
  "language_info": {
   "codemirror_mode": {
    "name": "ipython",
    "version": 2
   },
   "file_extension": ".py",
   "mimetype": "text/x-python",
   "name": "python",
   "nbconvert_exporter": "python",
   "pygments_lexer": "ipython2",
   "version": "2.7.12"
  }
 },
 "nbformat": 4,
 "nbformat_minor": 1
}
